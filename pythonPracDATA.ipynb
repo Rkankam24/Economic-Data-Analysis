{
  "nbformat": 4,
  "nbformat_minor": 0,
  "metadata": {
    "colab": {
      "provenance": [],
      "authorship_tag": "ABX9TyPVNZQplet/oedGmKO14oMb",
      "include_colab_link": true
    },
    "kernelspec": {
      "name": "python3",
      "display_name": "Python 3"
    },
    "language_info": {
      "name": "python"
    }
  },
  "cells": [
    {
      "cell_type": "markdown",
      "metadata": {
        "id": "view-in-github",
        "colab_type": "text"
      },
      "source": [
        "<a href=\"https://colab.research.google.com/github/Rkankam24/Economic-Data-Analysis/blob/main/pythonPracDATA.ipynb\" target=\"_parent\"><img src=\"https://colab.research.google.com/assets/colab-badge.svg\" alt=\"Open In Colab\"/></a>"
      ]
    },
    {
      "cell_type": "code",
      "execution_count": 8,
      "metadata": {
        "id": "Pqe36TS1_SaB"
      },
      "outputs": [],
      "source": [
        "import pandas as pd\n",
        "import numpy as np\n",
        "import matplotlib.pyplot as plt\n",
        "\n",
        "data = {\n",
        "    'Date': ['2025-06-20', '2025-06-20', '2025-06-21', '2025-06-21', '2025-06-22'],\n",
        "    'Genre': ['Fiction', 'Non-Fiction', 'Fantasy', 'Fiction', 'Non-Fiction'],\n",
        "    'Sales': [10, 15, 8, 12, 7],\n",
        "    'Price': [12.99, 15.50, 10.00, 12.99, 15.50]\n",
        "}\n",
        "df = pd.DataFrame(data)"
      ]
    },
    {
      "cell_type": "code",
      "source": [
        "print(df)\n"
      ],
      "metadata": {
        "colab": {
          "base_uri": "https://localhost:8080/"
        },
        "id": "b-Fmoubi_e46",
        "outputId": "bbeaa4fc-290f-44a1-92cc-3c568e777fe9"
      },
      "execution_count": 17,
      "outputs": [
        {
          "output_type": "stream",
          "name": "stdout",
          "text": [
            "         Date        Genre  Sales  Price  Revenue\n",
            "0  2025-06-20      Fiction     10  12.99   129.90\n",
            "1  2025-06-20  Non-Fiction     15  15.50   232.50\n",
            "2  2025-06-21      Fantasy      8  10.00    80.00\n",
            "3  2025-06-21      Fiction     12  12.99   155.88\n",
            "4  2025-06-22  Non-Fiction      7  15.50   108.50\n"
          ]
        }
      ]
    },
    {
      "cell_type": "code",
      "source": [
        "print(df.head(3))"
      ],
      "metadata": {
        "colab": {
          "base_uri": "https://localhost:8080/"
        },
        "id": "jXTxInJ7BH3E",
        "outputId": "99d3ae79-060b-4e14-83ff-7013599204da"
      },
      "execution_count": 9,
      "outputs": [
        {
          "output_type": "stream",
          "name": "stdout",
          "text": [
            "         Date        Genre  Sales  Price\n",
            "0  2025-06-20      Fiction     10  12.99\n",
            "1  2025-06-20  Non-Fiction     15  15.50\n",
            "2  2025-06-21      Fantasy      8  10.00\n"
          ]
        }
      ]
    },
    {
      "cell_type": "code",
      "source": [
        "fiction_sales = df[df['Genre'] == 'Fiction']\n",
        "print(fiction_sales)"
      ],
      "metadata": {
        "colab": {
          "base_uri": "https://localhost:8080/"
        },
        "id": "LUjZm_obBdEW",
        "outputId": "15d1422c-7249-443c-d7b2-9f8b76080f98"
      },
      "execution_count": 10,
      "outputs": [
        {
          "output_type": "stream",
          "name": "stdout",
          "text": [
            "         Date    Genre  Sales  Price\n",
            "0  2025-06-20  Fiction     10  12.99\n",
            "3  2025-06-21  Fiction     12  12.99\n"
          ]
        }
      ]
    },
    {
      "cell_type": "code",
      "source": [
        "df['Revenue'] = df['Sales']*df['Price']\n",
        "print(df)"
      ],
      "metadata": {
        "colab": {
          "base_uri": "https://localhost:8080/"
        },
        "id": "kJxkGgWyBywM",
        "outputId": "483aa62d-eb74-4991-85df-456eec8f92d3"
      },
      "execution_count": 11,
      "outputs": [
        {
          "output_type": "stream",
          "name": "stdout",
          "text": [
            "         Date        Genre  Sales  Price  Revenue\n",
            "0  2025-06-20      Fiction     10  12.99   129.90\n",
            "1  2025-06-20  Non-Fiction     15  15.50   232.50\n",
            "2  2025-06-21      Fantasy      8  10.00    80.00\n",
            "3  2025-06-21      Fiction     12  12.99   155.88\n",
            "4  2025-06-22  Non-Fiction      7  15.50   108.50\n"
          ]
        }
      ]
    },
    {
      "cell_type": "code",
      "source": [
        "avg_sales_per_genre = df.groupby('Genre') ['Sales'].mean()\n",
        "print(avg_sales_per_genre)"
      ],
      "metadata": {
        "colab": {
          "base_uri": "https://localhost:8080/"
        },
        "id": "d6JyAUDGCzIp",
        "outputId": "b0d413be-a90d-49cb-ab2a-9a10f520b269"
      },
      "execution_count": 12,
      "outputs": [
        {
          "output_type": "stream",
          "name": "stdout",
          "text": [
            "Genre\n",
            "Fantasy         8.0\n",
            "Fiction        11.0\n",
            "Non-Fiction    11.0\n",
            "Name: Sales, dtype: float64\n"
          ]
        }
      ]
    },
    {
      "cell_type": "code",
      "source": [
        "avg_rev_per_genre = df.groupby('Genre') ['Revenue'].mean()\n",
        "df.plot(kind= 'bar',title = 'Average Revenue per Genre')\n",
        "plt.ylabel('Revnue')\n",
        "plt.show()"
      ],
      "metadata": {
        "colab": {
          "base_uri": "https://localhost:8080/",
          "height": 447
        },
        "id": "wSgEm_amECkv",
        "outputId": "a1d68aa8-8847-47af-a111-86ac6d656fc7"
      },
      "execution_count": 16,
      "outputs": [
        {
          "output_type": "display_data",
          "data": {
            "text/plain": [
              "<Figure size 640x480 with 1 Axes>"
            ],
            "image/png": "[encoded data removed]"
          },
          "metadata": {}
        }
      ]
    },
    {
      "cell_type": "code",
      "source": [
        "df['Increased sales']= df['Sales']*0.5\n",
        "print(df)"
      ],
      "metadata": {
        "colab": {
          "base_uri": "https://localhost:8080/"
        },
        "id": "e5xT6wcnfO44",
        "outputId": "b9697cbf-befc-477f-e7f8-a866dee294e9"
      },
      "execution_count": null,
      "outputs": [
        {
          "output_type": "stream",
          "name": "stdout",
          "text": [
            "         Date        Genre  Sales  Price  Increased sales\n",
            "0  2025-06-20      Fiction     10  12.99              5.0\n",
            "1  2025-06-20  Non-Fiction     15  15.50              7.5\n",
            "2  2025-06-21      Fantasy      8  10.00              4.0\n",
            "3  2025-06-21      Fiction     12  12.99              6.0\n",
            "4  2025-06-22  Non-Fiction      7  15.50              3.5\n"
          ]
        }
      ]
    }
  ]
}