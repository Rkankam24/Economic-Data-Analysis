{
  "nbformat": 4,
  "nbformat_minor": 0,
  "metadata": {
    "colab": {
      "provenance": [],
      "authorship_tag": "ABX9TyMUojw+X0HPsqbPjGlv4lB0",
      "include_colab_link": true
    },
    "kernelspec": {
      "name": "python3",
      "display_name": "Python 3"
    },
    "language_info": {
      "name": "python"
    }
  },
  "cells": [
    {
      "cell_type": "markdown",
      "metadata": {
        "id": "view-in-github",
        "colab_type": "text"
      },
      "source": [
        "<a href=\"https://colab.research.google.com/github/Rkankam24/Economic-Data-Analysis/blob/main/ridzPortfolio.ipynb\" target=\"_parent\"><img src=\"https://colab.research.google.com/assets/colab-badge.svg\" alt=\"Open In Colab\"/></a>"
      ]
    },
    {
      "cell_type": "code",
      "execution_count": 2,
      "metadata": {
        "id": "ERT4Gxwye0ww"
      },
      "outputs": [],
      "source": [
        "import pandas as pd\n",
        "# Sample inflation data (CPI % change)\n",
        "data = {\n",
        "    'Year': [2020, 2021, 2022, 2023, 2024],\n",
        "    'Inflation_Rate': [0.9, 2.5, 9.1, 3.4, 2.0]}"
      ]
    },
    {
      "cell_type": "code",
      "source": [
        "df = pd.DataFrame(data)\n",
        "average_inflation = df['Inflation_Rate'].mean()\n",
        "print(f\"Average Inflation Rate (2020-2024): {average_inflation:.2f}%\")"
      ],
      "metadata": {
        "colab": {
          "base_uri": "https://localhost:8080/"
        },
        "id": "sYSV9iAGfLPl",
        "outputId": "056c18be-93d8-42e0-cb61-17204363d766"
      },
      "execution_count": 12,
      "outputs": [
        {
          "output_type": "stream",
          "name": "stdout",
          "text": [
            "Average Inflation Rate (2020-2024): 3.58%\n"
          ]
        }
      ]
    },
    {
      "cell_type": "code",
      "source": [],
      "metadata": {
        "id": "5cM34kH0faCU"
      },
      "execution_count": null,
      "outputs": []
    }
  ]
}