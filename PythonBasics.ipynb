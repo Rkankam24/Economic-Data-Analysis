{
  "nbformat": 4,
  "nbformat_minor": 0,
  "metadata": {
    "colab": {
      "provenance": [],
      "authorship_tag": "ABX9TyMI6I6pybugp3Ak3Y5akC8z",
      "include_colab_link": true
    },
    "kernelspec": {
      "name": "python3",
      "display_name": "Python 3"
    },
    "language_info": {
      "name": "python"
    }
  },
  "cells": [
    {
      "cell_type": "markdown",
      "metadata": {
        "id": "view-in-github",
        "colab_type": "text"
      },
      "source": [
        "<a href=\"https://colab.research.google.com/github/Rkankam24/Economic-Data-Analysis/blob/main/PythonBasics.ipynb\" target=\"_parent\"><img src=\"https://colab.research.google.com/assets/colab-badge.svg\" alt=\"Open In Colab\"/></a>"
      ]
    },
    {
      "cell_type": "code",
      "execution_count": null,
      "metadata": {
        "colab": {
          "base_uri": "https://localhost:8080/"
        },
        "id": "C2Z5yByUpzpg",
        "outputId": "f31a949c-6dff-4529-ed7b-7f1823571297"
      },
      "outputs": [
        {
          "output_type": "stream",
          "name": "stdout",
          "text": [
            "Salary: 50000, Name: Alice, Bonus Rate: 0.1\n"
          ]
        }
      ],
      "source": [
        "# Basic variable examples\n",
        "salary = 50000  # Integer (whole number)\n",
        "name = \"Alice\"  # String (text)\n",
        "bonus_rate = 0.10  # Float (decimal)\n",
        "print(f\"Salary: {salary}, Name: {name}, Bonus Rate: {bonus_rate}\")"
      ]
    },
    {
      "cell_type": "code",
      "source": [
        "name = \"LuhCashRidz\"\n",
        "monthly_income = 40000\n",
        "bonus_rate = 0.3\n",
        "money_after_b_rate = monthly_income * bonus_rate\n",
        "b_rate_bread = monthly_income + money_after_b_rate\n",
        "print(f\"Name: {name}, Monthly Income: {monthly_income}, Bonus Rate: {bonus_rate}, Bonus Money: {b_rate_bread}\")"
      ],
      "metadata": {
        "colab": {
          "base_uri": "https://localhost:8080/"
        },
        "id": "-LhmNhjvqNEl",
        "outputId": "f0718a15-c23f-495f-d478-071a8b7820f0"
      },
      "execution_count": null,
      "outputs": [
        {
          "output_type": "stream",
          "name": "stdout",
          "text": [
            "Name: LuhCashRidz, Monthly Income: 40000, Bonus Rate: 0.3, Bonus Money: 52000.0\n"
          ]
        }
      ]
    },
    {
      "cell_type": "code",
      "source": [
        "GDP = [2500, 2600,2450,2700]\n",
        "print(GDP[1])"
      ],
      "metadata": {
        "colab": {
          "base_uri": "https://localhost:8080/"
        },
        "id": "v7V2y45p-0kd",
        "outputId": "1c7ac1a0-be7e-4964-e493-1f5c012d0c10"
      },
      "execution_count": null,
      "outputs": [
        {
          "output_type": "stream",
          "name": "stdout",
          "text": [
            "2600\n"
          ]
        }
      ]
    },
    {
      "cell_type": "code",
      "source": [
        "GDP.append(3000)\n",
        "print(GDP)\n"
      ],
      "metadata": {
        "colab": {
          "base_uri": "https://localhost:8080/"
        },
        "id": "CLEpUkSHACvm",
        "outputId": "c4c81fed-c2f0-4074-fd72-8bb658c487a8"
      },
      "execution_count": null,
      "outputs": [
        {
          "output_type": "stream",
          "name": "stdout",
          "text": [
            "[2500, 2600, 2450, 2700, 3000]\n"
          ]
        }
      ]
    },
    {
      "cell_type": "code",
      "source": [
        "salaries = [500000, 600000,45000,70000,55000]\n",
        "for salary in salaries:\n",
        "\n",
        "  print( salary * 0.10)"
      ],
      "metadata": {
        "colab": {
          "base_uri": "https://localhost:8080/"
        },
        "id": "klEPTnKNBUFf",
        "outputId": "0bfdf644-22b3-430d-c87b-d05158fa5af0"
      },
      "execution_count": null,
      "outputs": [
        {
          "output_type": "stream",
          "name": "stdout",
          "text": [
            "50000.0\n",
            "60000.0\n",
            "4500.0\n",
            "7000.0\n",
            "5500.0\n"
          ]
        }
      ]
    },
    {
      "cell_type": "code",
      "source": [
        "salaries = [50000, 60000, 45000, 70000, 55000]\n",
        "for Salary in salaries:\n",
        "  Bonus = Salary*0.10\n",
        "  print(Salary, Bonus)"
      ],
      "metadata": {
        "colab": {
          "base_uri": "https://localhost:8080/"
        },
        "id": "Te6mx17k5pMi",
        "outputId": "16a47920-f66b-4d43-92f8-a9383df522f8"
      },
      "execution_count": null,
      "outputs": [
        {
          "output_type": "stream",
          "name": "stdout",
          "text": [
            "50000 5000.0\n",
            "60000 6000.0\n",
            "45000 4500.0\n",
            "70000 7000.0\n",
            "55000 5500.0\n"
          ]
        }
      ]
    },
    {
      "cell_type": "code",
      "source": [
        "bonuses =  []\n",
        "for Salary in salaries:\n",
        "  Bonus = Salary*0.10\n",
        "  bonuses.append(Bonus)\n",
        "print(bonuses)"
      ],
      "metadata": {
        "colab": {
          "base_uri": "https://localhost:8080/"
        },
        "id": "hjl5GC-76Xeb",
        "outputId": "024c6c07-7227-484b-b667-7f175b599d5f"
      },
      "execution_count": null,
      "outputs": [
        {
          "output_type": "stream",
          "name": "stdout",
          "text": [
            "[5000.0, 6000.0, 4500.0, 7000.0, 5500.0]\n"
          ]
        }
      ]
    },
    {
      "cell_type": "code",
      "source": [
        "# Function example\n",
        "def greet(name):\n",
        "    return f\"Hello, {name}!\"\n",
        "print(greet(\"Alice\"))"
      ],
      "metadata": {
        "colab": {
          "base_uri": "https://localhost:8080/"
        },
        "id": "tKfFUKxQ7xiG",
        "outputId": "26241daf-68ae-4a68-de44-3aa3d937862f"
      },
      "execution_count": null,
      "outputs": [
        {
          "output_type": "stream",
          "name": "stdout",
          "text": [
            "Hello, Alice!\n"
          ]
        }
      ]
    },
    {
      "cell_type": "code",
      "source": [
        "print(\"\\nExercise 1: Print Numbers 1 to 5\")\n",
        "for i in range(1, 6):  # range(start, stop+1)\n",
        "    print(i)"
      ],
      "metadata": {
        "colab": {
          "base_uri": "https://localhost:8080/"
        },
        "id": "PTd-5aBfiNeY",
        "outputId": "637d3658-f1aa-4bcf-a313-28a5edfc5d61"
      },
      "execution_count": null,
      "outputs": [
        {
          "output_type": "stream",
          "name": "stdout",
          "text": [
            "\n",
            "Exercise 1: Print Numbers 1 to 5\n",
            "1\n",
            "2\n",
            "3\n",
            "4\n",
            "5\n"
          ]
        }
      ]
    },
    {
      "cell_type": "code",
      "source": [
        "for i in range(1, 15):\n",
        "  print(i)\n"
      ],
      "metadata": {
        "colab": {
          "base_uri": "https://localhost:8080/"
        },
        "id": "dUBGLk22igUh",
        "outputId": "e22962c4-835e-4326-b7a1-469201dbd612"
      },
      "execution_count": null,
      "outputs": [
        {
          "output_type": "stream",
          "name": "stdout",
          "text": [
            "1\n",
            "2\n",
            "3\n",
            "4\n",
            "5\n",
            "6\n",
            "7\n",
            "8\n",
            "9\n",
            "10\n",
            "11\n",
            "12\n",
            "13\n",
            "14\n"
          ]
        }
      ]
    },
    {
      "cell_type": "code",
      "source": [
        "salaries = [50000, 60000, 45000]\n",
        "Total = 0\n",
        "for sum_of_salary in salaries:\n",
        "  Total = sum_of_salary + Total\n",
        "  print(f\"Total Salaries: {Total}\")"
      ],
      "metadata": {
        "colab": {
          "base_uri": "https://localhost:8080/"
        },
        "id": "o_-l96-tkqXp",
        "outputId": "d7cc0c80-55d4-460d-cd2c-8f6d3a0111c0"
      },
      "execution_count": null,
      "outputs": [
        {
          "output_type": "stream",
          "name": "stdout",
          "text": [
            "Total Salaries: 50000\n",
            "Total Salaries: 110000\n",
            "Total Salaries: 155000\n"
          ]
        }
      ]
    },
    {
      "cell_type": "code",
      "source": [
        "age = 24\n",
        "monthly_income = 100000\n",
        "tax_rate = 0.2\n",
        "\n",
        "tax_amount = monthly_income*tax_rate\n",
        "\n",
        "print(tax_amount)\n",
        "\n"
      ],
      "metadata": {
        "id": "bZoBxwxMpG2E",
        "colab": {
          "base_uri": "https://localhost:8080/"
        },
        "outputId": "46c2c420-9db9-49d1-f093-55aca94045b3"
      },
      "execution_count": null,
      "outputs": [
        {
          "output_type": "stream",
          "name": "stdout",
          "text": [
            "20000.0\n"
          ]
        }
      ]
    },
    {
      "cell_type": "code",
      "source": [
        "gdp_values = [25000, 26000,2450, 2700]\n",
        "print(gdp_values[1])"
      ],
      "metadata": {
        "colab": {
          "base_uri": "https://localhost:8080/"
        },
        "id": "m-kaaQ7vEuBR",
        "outputId": "dbb9b2b8-a637-40c3-bb5f-cc075051af56"
      },
      "execution_count": null,
      "outputs": [
        {
          "output_type": "stream",
          "name": "stdout",
          "text": [
            "26000\n"
          ]
        }
      ]
    },
    {
      "cell_type": "code",
      "source": [
        "gdp_values.append(2600)\n",
        "print(gdp_values)"
      ],
      "metadata": {
        "colab": {
          "base_uri": "https://localhost:8080/"
        },
        "id": "yyeMEldxFWVi",
        "outputId": "1ab9f032-048b-4012-984d-353d00cdde55"
      },
      "execution_count": null,
      "outputs": [
        {
          "output_type": "stream",
          "name": "stdout",
          "text": [
            "[25000, 26000, 2450, 2700, [2650], 2650, 2600]\n"
          ]
        }
      ]
    },
    {
      "cell_type": "code",
      "source": [
        "# Loop example\n",
        "salaries = [50000, 60000, 45000, 70000, 55000]\n",
        "for salary in salaries:\n",
        "    print(f\"Salary: {salary}\")"
      ],
      "metadata": {
        "colab": {
          "base_uri": "https://localhost:8080/"
        },
        "id": "8owr_p1QFo5S",
        "outputId": "4a2d0f16-6b0c-4b74-f210-10f360bde58d"
      },
      "execution_count": null,
      "outputs": [
        {
          "output_type": "stream",
          "name": "stdout",
          "text": [
            "Salary: 50000\n",
            "Salary: 60000\n",
            "Salary: 45000\n",
            "Salary: 70000\n",
            "Salary: 55000\n"
          ]
        }
      ]
    },
    {
      "cell_type": "code",
      "source": [
        "salaries = [50000, 60000, 45000, 70000, 550000]\n",
        "for salary in salaries:\n",
        "  bonus = salary*0.10\n",
        "  print(bonus)"
      ],
      "metadata": {
        "colab": {
          "base_uri": "https://localhost:8080/"
        },
        "id": "Bcbs0TZ5FyqH",
        "outputId": "897e3edb-6f20-404b-abd0-1492fa752306"
      },
      "execution_count": null,
      "outputs": [
        {
          "output_type": "stream",
          "name": "stdout",
          "text": [
            "5000.0\n",
            "6000.0\n",
            "4500.0\n",
            "7000.0\n",
            "55000.0\n"
          ]
        }
      ]
    },
    {
      "cell_type": "code",
      "source": [
        "for i in range(1,6):\n",
        "  print(i)"
      ],
      "metadata": {
        "colab": {
          "base_uri": "https://localhost:8080/"
        },
        "id": "bSdh4dI0IeV0",
        "outputId": "4b8eda8e-f81a-403d-c2fb-6d7d29ca0a40"
      },
      "execution_count": null,
      "outputs": [
        {
          "output_type": "stream",
          "name": "stdout",
          "text": [
            "1\n",
            "2\n",
            "3\n",
            "4\n",
            "5\n"
          ]
        }
      ]
    },
    {
      "cell_type": "code",
      "source": [
        "age = 14\n",
        "while age <= 14:\n",
        "   print(\"you're still a young G\")\n",
        "  elif: age > 14\n",
        "print(\"youre a big man now\")\n",
        "  else: age = 25\n",
        "print(\"twenty 5ive\")\n",
        "\n"
      ],
      "metadata": {
        "colab": {
          "base_uri": "https://localhost:8080/",
          "height": 106
        },
        "id": "odv4Uu4nJBaN",
        "outputId": "b48f836c-3b90-4ae3-c142-4bbd5025d331"
      },
      "execution_count": null,
      "outputs": [
        {
          "output_type": "error",
          "ename": "IndentationError",
          "evalue": "unindent does not match any outer indentation level (<tokenize>, line 4)",
          "traceback": [
            "\u001b[0;36m  File \u001b[0;32m\"<tokenize>\"\u001b[0;36m, line \u001b[0;32m4\u001b[0m\n\u001b[0;31m    elif: age > 14\u001b[0m\n\u001b[0m    ^\u001b[0m\n\u001b[0;31mIndentationError\u001b[0m\u001b[0;31m:\u001b[0m unindent does not match any outer indentation level\n"
          ]
        }
      ]
    },
    {
      "cell_type": "code",
      "source": [
        "num = 5\n",
        "while num > 0:\n",
        "    if num < 3:\n",
        "        break\n",
        "    print(num)\n",
        "    num -= 1"
      ],
      "metadata": {
        "colab": {
          "base_uri": "https://localhost:8080/"
        },
        "id": "trtbvrOCJjNq",
        "outputId": "e1ea0fb5-a1dd-4722-fe20-d31c9afc428a"
      },
      "execution_count": null,
      "outputs": [
        {
          "output_type": "stream",
          "name": "stdout",
          "text": [
            "5\n",
            "4\n",
            "3\n"
          ]
        }
      ]
    },
    {
      "cell_type": "code",
      "source": [
        "def calculate_revenue(sales, price, tax_rate=0.10):\n",
        "  revenue = sales * price * (1 + tax_rate)\n",
        "  return revenue\n",
        "print(calculate_revenue(10, 12.99))"
      ],
      "metadata": {
        "colab": {
          "base_uri": "https://localhost:8080/"
        },
        "id": "9HqUeATjK3m8",
        "outputId": "74ada15f-901b-425c-e010-fcc8e1becac2"
      },
      "execution_count": null,
      "outputs": [
        {
          "output_type": "stream",
          "name": "stdout",
          "text": [
            "142.89000000000001\n"
          ]
        }
      ]
    },
    {
      "cell_type": "code",
      "source": [
        "def calculate_revenue(sales, price, tax_rate=0.10):\n",
        "    revenue = sales * price * (1 + tax_rate)\n",
        "    return revenue\n",
        "print(f\"Total Revenue: £{calculate_revenue(10, 12.99):.2f}\")"
      ],
      "metadata": {
        "colab": {
          "base_uri": "https://localhost:8080/"
        },
        "id": "XDNKLPEiNalx",
        "outputId": "e00cd32f-0887-4a02-dc4f-db71ac4cda80"
      },
      "execution_count": null,
      "outputs": [
        {
          "output_type": "stream",
          "name": "stdout",
          "text": [
            "Total Revenue: £142.89\n"
          ]
        }
      ]
    },
    {
      "cell_type": "code",
      "source": [
        "total = 0\n",
        "number = 1\n",
        "while total <= 50:\n",
        "  total += number\n",
        "  number +=1\n",
        "print(total)"
      ],
      "metadata": {
        "colab": {
          "base_uri": "https://localhost:8080/"
        },
        "id": "oLLWdyhlQ4XG",
        "outputId": "620d033c-aa44-44d1-ca4e-3094b0cb5e6f"
      },
      "execution_count": null,
      "outputs": [
        {
          "output_type": "stream",
          "name": "stdout",
          "text": [
            "55\n"
          ]
        }
      ]
    },
    {
      "cell_type": "code",
      "source": [
        "def calculate_inflation (old_cpi, new_cpi):\n",
        "  inflation_rate = new_cpi - old_cpi/old_cpi*100\n",
        "  return inflation_rate\n",
        "print(calculate_inflation(100, 103))"
      ],
      "metadata": {
        "colab": {
          "base_uri": "https://localhost:8080/"
        },
        "id": "YsW61mx1Rq3t",
        "outputId": "c7be8c4f-fb0d-43db-ad64-81854b4f7fa7"
      },
      "execution_count": null,
      "outputs": [
        {
          "output_type": "stream",
          "name": "stdout",
          "text": [
            "3.0\n"
          ]
        }
      ]
    },
    {
      "cell_type": "code",
      "source": [
        "def calculate_total_revenue (sales, prices):\n",
        "total = 0\n",
        "total_revenue = (sales * prices)\n",
        "sales [10, 15, 8]\n",
        "prices[12.99, 15.50, 10.00 ]"
      ],
      "metadata": {
        "id": "cZNTP-YWX6XV"
      },
      "execution_count": null,
      "outputs": []
    },
    {
      "cell_type": "code",
      "source": [
        "count = 10\n",
        "while count >= 0:\n",
        "    print(count)\n",
        "    count -= 1"
      ],
      "metadata": {
        "id": "UZ52HFhsY5CQ",
        "colab": {
          "base_uri": "https://localhost:8080/"
        },
        "outputId": "657727c4-250b-4dbc-d07b-29a3d380e53c"
      },
      "execution_count": null,
      "outputs": [
        {
          "output_type": "stream",
          "name": "stdout",
          "text": [
            "10\n",
            "9\n",
            "8\n",
            "7\n",
            "6\n",
            "5\n",
            "4\n",
            "3\n",
            "2\n",
            "1\n",
            "0\n"
          ]
        }
      ]
    },
    {
      "cell_type": "code",
      "source": [
        "# practice loops questions\n",
        "\n",
        "# Q1\n",
        "for i in range (2,21, 2):\n",
        "  print(i)"
      ],
      "metadata": {
        "colab": {
          "base_uri": "https://localhost:8080/"
        },
        "id": "dfIfjJlTHrIg",
        "outputId": "ab92da33-d9d0-436b-e8ec-bf0e5f265c4d"
      },
      "execution_count": null,
      "outputs": [
        {
          "output_type": "stream",
          "name": "stdout",
          "text": [
            "2\n",
            "4\n",
            "6\n",
            "8\n",
            "10\n",
            "12\n",
            "14\n",
            "16\n",
            "18\n",
            "20\n"
          ]
        }
      ]
    },
    {
      "cell_type": "code",
      "source": [
        "total = 0\n",
        "num = 1\n",
        "while num <= 10:\n",
        "    total += num\n",
        "    num += 1\n",
        "print(\"Sum:\", total)"
      ],
      "metadata": {
        "colab": {
          "base_uri": "https://localhost:8080/"
        },
        "id": "OGxYRUrzKsJz",
        "outputId": "1da4b028-1cb6-4fbf-c7d8-ba24174f65b0"
      },
      "execution_count": null,
      "outputs": [
        {
          "output_type": "stream",
          "name": "stdout",
          "text": [
            "Sum: 55\n"
          ]
        }
      ]
    },
    {
      "cell_type": "code",
      "source": [
        "#Q2\n",
        "total = 0\n",
        "num = 1\n",
        "while num <= 10:\n",
        "  total += num\n",
        "  num += 1\n",
        "print(\"SUM:\", total)"
      ],
      "metadata": {
        "colab": {
          "base_uri": "https://localhost:8080/"
        },
        "id": "9PzTYUzgLGY9",
        "outputId": "029c29ed-e3d6-4edb-d5d8-115aca6c65fc"
      },
      "execution_count": null,
      "outputs": [
        {
          "output_type": "stream",
          "name": "stdout",
          "text": [
            "SUM: 55\n"
          ]
        }
      ]
    }
  ]
}